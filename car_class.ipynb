{
 "cells": [
  {
   "cell_type": "markdown",
   "metadata": {},
   "source": [
    "## Car Class with Drive and Passenger"
   ]
  },
  {
   "cell_type": "code",
   "execution_count": 3,
   "metadata": {},
   "outputs": [],
   "source": [
    "class Carr:\n",
    "    def __init__(self, num_passengers=0, fuel=100, milage=0):\n",
    "        self.fuel = fuel\n",
    "        self.milage = milage\n",
    "        self.num_passengers = num_passengers\n",
    "\n",
    "    def drive(self, miles_driven):\n",
    "        if miles_driven <= self.fuel:\n",
    "            self.milage += miles_driven\n",
    "            self.fuel -= miles_driven\n",
    "            print(f\"The new milage is {self.milage} and the new fuel level is {self.fuel}\")\n",
    "        else:\n",
    "            print(\"Unable to travel this distance with current fuel capacity\")\n",
    "\n",
    "    def update_passengers(self, change_passengers):\n",
    "        new_passenger_count = self.num_passengers + change_passengers\n",
    "        if new_passenger_count > 4:\n",
    "            print(\"Unable to hold this many passengers\")\n",
    "        elif new_passenger_count < 0:\n",
    "            print(\"Number of passengers cannot be negative\")\n",
    "        else:\n",
    "            self.num_passengers = new_passenger_count\n",
    "            print(f\"The new number of passengers in the car is {self.num_passengers}\")\n"
   ]
  },
  {
   "cell_type": "code",
   "execution_count": 4,
   "metadata": {},
   "outputs": [],
   "source": [
    "car = Carr(num_passengers=2, fuel=50, milage=500)"
   ]
  },
  {
   "cell_type": "code",
   "execution_count": 5,
   "metadata": {},
   "outputs": [
    {
     "name": "stdout",
     "output_type": "stream",
     "text": [
      "The new milage is 520 and the new fuel level is 30\n"
     ]
    }
   ],
   "source": [
    "car.drive(20)"
   ]
  },
  {
   "cell_type": "code",
   "execution_count": 6,
   "metadata": {},
   "outputs": [
    {
     "name": "stdout",
     "output_type": "stream",
     "text": [
      "Unable to hold this many passengers\n"
     ]
    }
   ],
   "source": [
    "car.update_passengers(3)"
   ]
  },
  {
   "cell_type": "code",
   "execution_count": 7,
   "metadata": {},
   "outputs": [
    {
     "name": "stdout",
     "output_type": "stream",
     "text": [
      "The new number of passengers in the car is 1\n"
     ]
    }
   ],
   "source": [
    "car.update_passengers(-1)"
   ]
  },
  {
   "cell_type": "code",
   "execution_count": 8,
   "metadata": {},
   "outputs": [
    {
     "name": "stdout",
     "output_type": "stream",
     "text": [
      "Unable to hold this many passengers\n"
     ]
    }
   ],
   "source": [
    "car.update_passengers(5)"
   ]
  },
  {
   "cell_type": "code",
   "execution_count": 9,
   "metadata": {},
   "outputs": [
    {
     "name": "stdout",
     "output_type": "stream",
     "text": [
      "Unable to travel this distance with current fuel capacity\n"
     ]
    }
   ],
   "source": [
    "car.drive(90)"
   ]
  }
 ],
 "metadata": {
  "kernelspec": {
   "display_name": "Python 3",
   "language": "python",
   "name": "python3"
  },
  "language_info": {
   "codemirror_mode": {
    "name": "ipython",
    "version": 3
   },
   "file_extension": ".py",
   "mimetype": "text/x-python",
   "name": "python",
   "nbconvert_exporter": "python",
   "pygments_lexer": "ipython3",
   "version": "3.7.3"
  }
 },
 "nbformat": 4,
 "nbformat_minor": 2
}
