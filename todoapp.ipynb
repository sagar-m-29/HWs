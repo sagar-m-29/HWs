{
 "cells": [
  {
   "cell_type": "code",
   "execution_count": 1,
   "metadata": {},
   "outputs": [],
   "source": [
    "class Todo():\n",
    "    def __init__(self, description):\n",
    "        self.description = description\n",
    "    \n",
    "    def __str__(self):\n",
    "        return self.description\n",
    "    \n",
    "    def __eq__(self, other):\n",
    "        return isinstance(other, Todo) and self.description == other.description \n",
    "    # Got it to work, but don't fully understand. Just understand we make each instance of the class the same if their string descriptions match up."
   ]
  },
  {
   "cell_type": "code",
   "execution_count": 5,
   "metadata": {},
   "outputs": [],
   "source": [
    "class Todos():\n",
    "\n",
    "    def __init__(self):\n",
    "        self.todos = []\n",
    "\n",
    "    def add(self,todo_description):\n",
    "        todo_to_add = Todo(todo_description)\n",
    "\n",
    "        if todo_description == \"\" or todo_description == \" \" or todo_description == \"  \":\n",
    "            print(\"Error, cannot add empty string.\")\n",
    "        elif todo_to_add in self.todos:\n",
    "            print(\"This is already in your todos.\")\n",
    "        else:\n",
    "            self.todos.append(Todo(todo_description))\n",
    "            print(f\"{todo_description} has been added to your todos.\")\n",
    "\n",
    "    def list_todos(self):\n",
    "        for todo in self.todos:\n",
    "            print(todo)\n",
    "\n",
    "    def remove(self, removal_description):\n",
    "\n",
    "        todo_to_remove = Todo(removal_description)\n",
    "\n",
    "        if todo_to_remove in self.todos:\n",
    "            self.todos.remove(todo_to_remove)\n",
    "            print(f\"{removal_description} has been checked off from your todos.\")\n",
    "        else:\n",
    "            print(f\"Error, '{removal_description}' is not in your todos.\")\n",
    "\n",
    "        # WHY DOESN'T THIS WORK???\n",
    "        # if Todo(todo_description) in self.todos:\n",
    "        #     self.todos.remove(Todo(todo_description))\n",
    "        # else:\n",
    "        #     print(f\"Error, {removal_description} is not in your todos.\")\n",
    "            \n",
    "    def run(self):\n",
    "        while True:\n",
    "            command = input(\"What would you like to do? list, add, or remove? Type the respective. Type exit to end program \")\n",
    "\n",
    "            if command == \"add\":\n",
    "                while True:\n",
    "                    description = input(\"What would you like to add? Type done to finish \")\n",
    "\n",
    "                    if description.lower() == \"done\":\n",
    "                        break\n",
    "                    else:\n",
    "                        self.add(description)\n",
    "\n",
    "            elif command == \"list\":\n",
    "                print(\"\\nYour To-Do List:\")\n",
    "                self.list_todos()\n",
    "\n",
    "            elif command == \"remove\":\n",
    "                while True:\n",
    "                    description = input(\"What would you like to remove? Type done to finish \")\n",
    "\n",
    "                    if description.lower() == \"done\":\n",
    "                        break\n",
    "                    else:\n",
    "                        self.remove(description)\n",
    "\n",
    "            elif command == \"exit\":\n",
    "                break\n",
    "\n",
    "            else:\n",
    "                print(f\"{command} is an invalid command. Please try again.\")"
   ]
  },
  {
   "cell_type": "code",
   "execution_count": 6,
   "metadata": {},
   "outputs": [
    {
     "name": "stdout",
     "output_type": "stream",
     "text": [
      "hw has been added to your todos.\n",
      "hw2 has been added to your todos.\n",
      "\n",
      "Your To-Do List:\n",
      "hw\n",
      "hw2\n",
      "\n",
      "Your To-Do List:\n",
      "hw\n",
      "hw2\n"
     ]
    }
   ],
   "source": [
    "t = Todos()\n",
    "t.run()"
   ]
  }
 ],
 "metadata": {
  "kernelspec": {
   "display_name": "Python 3",
   "language": "python",
   "name": "python3"
  },
  "language_info": {
   "codemirror_mode": {
    "name": "ipython",
    "version": 3
   },
   "file_extension": ".py",
   "mimetype": "text/x-python",
   "name": "python",
   "nbconvert_exporter": "python",
   "pygments_lexer": "ipython3",
   "version": "3.7.3"
  }
 },
 "nbformat": 4,
 "nbformat_minor": 2
}
